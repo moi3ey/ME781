{
  "nbformat": 4,
  "nbformat_minor": 5,
  "metadata": {
    "kernelspec": {
      "display_name": "Python 3 (ipykernel)",
      "language": "python",
      "name": "python3"
    },
    "language_info": {
      "codemirror_mode": {
        "name": "ipython",
        "version": 3
      },
      "file_extension": ".py",
      "mimetype": "text/x-python",
      "name": "python",
      "nbconvert_exporter": "python",
      "pygments_lexer": "ipython3",
      "version": "3.8.2"
    },
    "colab": {
      "name": "A2_bhavesh.ipynb",
      "provenance": []
    }
  },
  "cells": [
    {
      "cell_type": "markdown",
      "metadata": {
        "id": "d9a3e21a"
      },
      "source": [
        "## Assignment 2  ME 781  (Data Scale)"
      ],
      "id": "d9a3e21a"
    },
    {
      "cell_type": "markdown",
      "metadata": {
        "id": "9a430299"
      },
      "source": [
        "### Perform the following tasks in sequence:\n",
        "\n",
        "1. Create a list of 5 open data sets available for machine learning along with their links for each of the three Data Types (Discrete data Type, Sequential (temporal) data Type and Spatial data Type)\n",
        "\n",
        "\n",
        "2. Write a python code to input a dataset (csv file) of Discrete data type, automatically identify and print the\n",
        "\n",
        "    a. Number of attributes and number of entries\n",
        "    \n",
        "    b. Data scale of each attribute\n",
        "    \n",
        "    c. Data value of each attribute\n",
        "\n",
        "\n",
        "3.      Write a python code to perform statistics on each data column based on its data scale.\n",
        "\n",
        "\n",
        "4.      Can we use a box plot for visualizing ordinal data? (Yes/No). Explain why. \n",
        "\n",
        "![MicrosoftTeams-image2.png](attachment:MicrosoftTeams-image2.png)\n",
        "\n",
        "\n",
        "5.      Write a python code to visualize data in the csv file (a generalized method depending upon data scale) \n",
        "\n",
        "    Assignment instructions:\n",
        "    1. Naming convention: Please name your colab files as rollnumber_A2.ipynb. \n",
        "    2. Learn how to use markdown to add texts in colab to make your code interactive and understandable. \n",
        "    3. After completion of your assignment download the file as .ipynb and submit itusing Teams assignment tab."
      ],
      "id": "9a430299"
    },
    {
      "cell_type": "markdown",
      "metadata": {
        "id": "fc816167"
      },
      "source": [
        "  ###  We have a software to check plagiarism in code, if anyone found copying the code, strict action will be taken against such students and can also be given FR grade directly.\n",
        "    \n",
        "  We  expect  you  to  upload  colab  notebooks  when  you  are  required  to  turn  your  programming assignments.  Please  make  sure  that  you  provide  enough  comments  in  the  code  for  the TAs to understand \n",
        "       "
      ],
      "id": "fc816167"
    },
    {
      "cell_type": "markdown",
      "metadata": {
        "id": "aa554ad0"
      },
      "source": [
        "### Libraries"
      ],
      "id": "aa554ad0"
    },
    {
      "cell_type": "code",
      "metadata": {
        "id": "68c4a910"
      },
      "source": [
        "import numpy as np\n",
        "import pandas as pd\n",
        "import matplotlib.pyplot as plt\n",
        "import seaborn as sns "
      ],
      "id": "68c4a910",
      "execution_count": null,
      "outputs": []
    },
    {
      "cell_type": "code",
      "metadata": {
        "id": "84851f89"
      },
      "source": [
        "# Predicting the quality of wines on given chemical measures of each wine (temporal)\n",
        "url1 = \"https://www.kaggle.com/vishalyo990/prediction-of-quality-of-wine\" \n",
        "\n",
        "# Predicting performance in exams (discrete)\n",
        "url2 = \"https://www.kaggle.com/spscientist/students-performance-in-exams\" \n",
        "\n",
        "# Predicting climate changes (spatial)\n",
        "url3 = \"https://www.kaggle.com/leandrovrabelo/climate-change-forecast-sarima-model\"\n",
        "\n",
        "# Predicting diabetes from past medical records (temporal)\n",
        "url4 = \"https://www.kaggle.com/paultimothymooney/predict-diabetes-from-medical-records\"\n",
        "\n",
        "# Analyzing the crop production in India (spatial)\n",
        "url5 = \"https://www.kaggle.com/srinivas1/agricuture-crops-production-in-india\" "
      ],
      "id": "84851f89",
      "execution_count": null,
      "outputs": []
    },
    {
      "cell_type": "markdown",
      "metadata": {
        "id": "751734d6"
      },
      "source": [
        "### 2.   Write a python code to input a dataset (csv file) of Discrete datatype, automatically identify and print the\n",
        "\n",
        "    a. Number of attributes and number of data points\n",
        "    \n",
        "    b. Data scale of each attribute\n",
        "    \n",
        "    c. Data value of each attribute"
      ],
      "id": "751734d6"
    },
    {
      "cell_type": "markdown",
      "metadata": {
        "id": "c69ee36b"
      },
      "source": [
        "#### Note: The number of categories for categorical (nominal,ordinal) data scale for the evaluating datasets is not greater than 8."
      ],
      "id": "c69ee36b"
    },
    {
      "cell_type": "code",
      "metadata": {
        "id": "e4ca14c4"
      },
      "source": [
        "def data_description(filename):\n",
        "    \n",
        "    df = pd.read_csv(filename)\n",
        "    datatypes = {}      \n",
        "    \n",
        "    int_dtypes = df.select_dtypes(include = 'int64').columns.tolist()\n",
        "    float_dtypes = df.select_dtypes(include = 'float').columns.tolist()\n",
        "    obj_dtypes = df.select_dtypes(include = 'object').columns.tolist()\n",
        "    \n",
        "    data_scale = {}\n",
        "    data_value = {} \n",
        "    \n",
        "    for column in df.columns:\n",
        "        \n",
        "        \n",
        "        if df[column].nunique() <= 8 and column in int_dtypes:   \n",
        "            data_scale[column] = 'ordinal'\n",
        "        elif df[column].nunique() <= 8:\n",
        "            data_scale[column] = 'nominal'\n",
        "        elif min(df[column])>=0 and column in int_dtypes or column in float_dtypes:\n",
        "            data_scale[column] = 'ratio'\n",
        "        else:\n",
        "            data_scale[column] = 'interval'\n",
        "        \n",
        "\n",
        "        if column in float_dtypes:\n",
        "            data_value[column] = 'continuous'\n",
        "        else:\n",
        "            data_value[column] = 'discrete'\n",
        "    \n",
        "    return data_scale, data_value, df"
      ],
      "id": "e4ca14c4",
      "execution_count": null,
      "outputs": []
    },
    {
      "cell_type": "markdown",
      "metadata": {
        "id": "b7638112"
      },
      "source": [
        "### 3. Write a python code to perform statistics on each data column based on its data scale."
      ],
      "id": "b7638112"
    },
    {
      "cell_type": "code",
      "metadata": {
        "id": "977037bb"
      },
      "source": [
        "def stats(filename):\n",
        "    data_scale, data_value, df = data_description(filename)  \n",
        "    for col in range(len(df.columns)):\n",
        "      col = df.columns[i]\n",
        "      if data_scale[col] == 'ratio':\n",
        "        print(f\"{col}\")\n",
        "        print(f\"mode {df.mode()[col][0]}\")\n",
        "        print(df[col].describe())\n",
        "        print()\n",
        "      elif data_scale[col] == 'ordinal':\n",
        "        print(f\"{col}\")\n",
        "        print(f\"mode {df.mode()[col][0]}\")\n",
        "        print(df[col].value_counts())\n",
        "        print()\n",
        "      elif data_scale[col] == 'nominal':\n",
        "        print(f\"{col}\")\n",
        "        print(f\"mode {df.mode()[col][0]}\")\n",
        "        print(df[col].value_counts())\n",
        "        print()\n",
        "      else:\n",
        "        print(f\"{col}\")\n",
        "        print(f\"mode {df.mode()[col][0]}\")\n",
        "        print(df[col].describe())\n",
        "        print()\n",
        "    return"
      ],
      "id": "977037bb",
      "execution_count": null,
      "outputs": []
    },
    {
      "cell_type": "markdown",
      "metadata": {
        "id": "18fc71f7"
      },
      "source": [
        "### 4. Can we use a box plot for visualizing ordinal data ? (Yes/No). Explain why.\n",
        "![MicrosoftTeams-image2.png](attachment:MicrosoftTeams-image2.png)"
      ],
      "id": "18fc71f7"
    },
    {
      "cell_type": "markdown",
      "metadata": {
        "id": "OL0OCXC7uKDe"
      },
      "source": [
        "Yes. Although we can't calculate mean, but we can find median, frequencies etc. for the ordinal data. Boxplots are an intuitive visual depiction of median and hence they can be used for visualizing the ordinal data.\n"
      ],
      "id": "OL0OCXC7uKDe"
    },
    {
      "cell_type": "markdown",
      "metadata": {
        "id": "7e81d6af"
      },
      "source": [
        "###   5.  Write a python code to visualize the data (a generalized method depending on data scale) "
      ],
      "id": "7e81d6af"
    },
    {
      "cell_type": "code",
      "metadata": {
        "id": "8dda551c"
      },
      "source": [
        "def visualize_data(filename):\n",
        "        data_scale, data_value, df = data_description(filename)\n",
        "        categorical = []\n",
        "        numerical = []\n",
        "        for column in df.columns:\n",
        "            if data_scale[column]=='nominal' or data_scale[column]=='ordinal':\n",
        "                categorical.append(column)\n",
        "            else:\n",
        "                numerical.append(column)\n",
        "\n",
        "        for col in df.columns:\n",
        "          if data_scale[col] == 'ratio':\n",
        "            plt.figure()\n",
        "            sns.countplot(df[col])\n",
        "          elif data_scale[col] == 'ordinal':\n",
        "            plt.figure()\n",
        "            sns.distplot(df[col])\n",
        "          elif data_scale[col] == 'nominal':\n",
        "            plt.figure()\n",
        "            sns.countplot(df[col])\n",
        "          else:\n",
        "            plt.figure()\n",
        "            sns.countplot(df[col])"
      ],
      "id": "8dda551c",
      "execution_count": null,
      "outputs": []
    }
  ]
}