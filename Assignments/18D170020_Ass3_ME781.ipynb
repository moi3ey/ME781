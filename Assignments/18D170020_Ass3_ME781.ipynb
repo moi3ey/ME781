{
  "nbformat": 4,
  "nbformat_minor": 0,
  "metadata": {
    "colab": {
      "name": "18D170020_Ass3_ME781.ipynb",
      "provenance": [],
      "collapsed_sections": []
    },
    "kernelspec": {
      "name": "python3",
      "display_name": "Python 3"
    },
    "language_info": {
      "name": "python"
    }
  },
  "cells": [
    {
      "cell_type": "markdown",
      "metadata": {
        "id": "zY3rhRSlE8_F"
      },
      "source": [
        "Question 1:\n"
      ]
    },
    {
      "cell_type": "code",
      "metadata": {
        "id": "EFzhRY3IFK1U"
      },
      "source": [
        "import numpy as np\n",
        "import warnings\n",
        "warnings.filterwarnings(\"ignore\")"
      ],
      "execution_count": 1,
      "outputs": []
    },
    {
      "cell_type": "code",
      "metadata": {
        "id": "cJemM1MIFPkG"
      },
      "source": [
        "def sim_dissim(x, y, measure, *argv): \n",
        "    try:\n",
        "        x = np.asarray(x)\n",
        "        y = np.asarray(y)\n",
        "    except Exception as e:\n",
        "        print(\"Invalid format for datapoint(s)\")\n",
        "        return \n",
        "\n",
        "    if x.ndim != 1:\n",
        "        print(\"Datapoint 1 is not 1-dimensional array\")\n",
        "        return\n",
        "\n",
        "    if y.ndim != 1:\n",
        "        print(\"Datapoint 2 is not 1-dimensional array\")\n",
        "        return\n",
        "    \n",
        "    if x.shape != y.shape:\n",
        "        print(\"Datapoints are not of the same dimensions\")\n",
        "        return\n",
        "\n",
        "    if measure == \"EN\":\n",
        "        d_xy = x - y\n",
        "        A = np.eye(d_xy.shape[0])\n",
        "        dissim = np.sqrt(np.matmul(np.matmul(d_xy, A), d_xy))\n",
        "        sim = 1 / (1 + dissim)\n",
        "        print((dissim,sim))\n",
        "        return\n",
        "\n",
        "    elif measure == \"HSN\":\n",
        "        d_xy = x - y\n",
        "        A = np.ones((d_xy.shape[0], d_xy.shape[0]))\n",
        "        dissim = np.sqrt(np.matmul(np.matmul(d_xy, A), d_xy))\n",
        "        sim = 1 / (1 + dissim)\n",
        "        print((dissim,sim))\n",
        "        return\n",
        "\n",
        "    elif measure == \"DN\":\n",
        "       \n",
        "        if len(argv) == 0:\n",
        "            print(\"Entries for diagonal matrix not passed to the function\")\n",
        " \n",
        "        try:\n",
        "            d = np.asarray(argv[0])\n",
        "        except Exception as e:\n",
        "            print(\"Invalid format for diagonal matrix entries\")\n",
        "                \n",
        "        if d.ndim == 1:\n",
        "            d = np.diag(d)\n",
        "        else:\n",
        "\n",
        "            try:\n",
        "                diag = np.diagonal(d)\n",
        "            except Exception as e:\n",
        "                print(\"Matrix passed is not diagonal\")\n",
        "           \n",
        "            if np.count_nonzero(d - np.diag(diag)) != 0:\n",
        "                print(\"Matrix passed is not diagonal\")\n",
        "            \n",
        "        if d.shape != (x.shape[0], x.shape[0]):\n",
        "            print(\"The vector dimension isn't compatible\")\n",
        "            return\n",
        "        d_xy = x - y\n",
        "        out = np.matmul(np.matmul(d_xy, d), d_xy)\n",
        "\n",
        "        if out>0:\n",
        "            dissim = np.sqrt(out)\n",
        "            sim = 1 / (1 + dissim)\n",
        "        else:\n",
        "            print(\"Dissimilarity turns out to be the square root of a negative number\")\n",
        "            return\n",
        "        print((dissim,sim))\n",
        "        return\n",
        "\n",
        "    elif measure == \"MN\":\n",
        "        if len(argv) == 0:\n",
        "            print(\"Datapoints to calculate covariance matrix not passed to the function\")\n",
        "            return\n",
        "\n",
        "        try:\n",
        "            cov_dp = np.array(argv[0])\n",
        "        except Exception as e:\n",
        "            print(\"Invalid format for datapoints to create covariance matrix\")\n",
        "                \n",
        "        if cov_dp.shape[1] != x.shape[0]:\n",
        "            print(\"The shape of distribution does not conform with the data points\")\n",
        "            return\n",
        "\n",
        "        d_xy = x - y\n",
        "        cov_dp =  cov_dp - cov_dp.mean(axis=0)\n",
        "        cov = np.dot(cov_dp.T, cov_dp) / (cov_dp.shape[0] - 1)\n",
        "        try:\n",
        "            A = np.linalg.inv(cov)\n",
        "        except Exception as e:\n",
        "            print(\"The distribution results in a non-invertible covariance matrix\")\n",
        "            return\n",
        "        dissim = np.sqrt(np.matmul(np.matmul(d_xy, A), d_xy))\n",
        "        sim = 1 / (1 + dissim)\n",
        "        print((dissim,sim))\n",
        "        return\n",
        "\n",
        "    elif measure == \"LMN\":\n",
        "        if len(argv) == 0:\n",
        "            print(\"alpha value not provided\")\n",
        "        \n",
        "        try:    \n",
        "            alpha = float(argv[0])\n",
        "        except Exception as e:\n",
        "            print(\"Invalid alpha value\")\n",
        "        if alpha ==0:\n",
        "          print(\"Similarity/ Dissimilarity measures not defined\")\n",
        "          return\n",
        "        d_xy = x - y\n",
        "        dissim = np.power(np.sum(abs(d_xy) ** alpha), 1/alpha)\n",
        "        sim = 1 / (1 + dissim)\n",
        "        print((dissim,sim))\n",
        "        return\n",
        "\n",
        "    elif measure == \"CS\":\n",
        "        sim = np.sum(x * y) / np.sqrt(np.sum(x * x) * np.sum(y * y))\n",
        "        dissim = (1 - sim) / sim\n",
        "        print((dissim,sim))\n",
        "        return    \n",
        "\n",
        "    elif measure == \"OS\":\n",
        "        if min(np.sum(x * x), np.sum(y * y)) == 0:\n",
        "            print(\"Measures not defined; similarity has 0/0 form\")\n",
        "            return\n",
        "        \n",
        "        sim = np.sum(x * y) / min(np.sum(x * x), np.sum(y * y))\n",
        "        dissim = (1 - sim) / sim\n",
        "        print((dissim,sim))\n",
        "        return    \n",
        "    \n",
        "    elif measure == \"DS\":\n",
        "        sim = 2 * np.sum(x * y) / (np.sum(x * x) + np.sum(y * y))\n",
        "        dissim = (1 - sim) / sim\n",
        "        print((dissim,sim))\n",
        "        return           \n",
        "    \n",
        "    elif measure == \"JS\":\n",
        "        sim = np.sum(x * y) / (np.sum(x * x) + np.sum(y * y) - np.sum(x * y))\n",
        "        dissim = (1 - sim) / sim\n",
        "        print((dissim,sim))\n",
        "        return\n",
        "     \n",
        "    else:\n",
        "        print(\"Invalid measure\")\n",
        "        return\n",
        "    \n",
        "    return"
      ],
      "execution_count": 8,
      "outputs": []
    },
    {
      "cell_type": "markdown",
      "metadata": {
        "id": "1L47oIaqpAbm"
      },
      "source": [
        "Testing the code using given sample cases"
      ]
    },
    {
      "cell_type": "code",
      "metadata": {
        "colab": {
          "base_uri": "https://localhost:8080/"
        },
        "id": "M8LGOyvipDKV",
        "outputId": "f6329544-4216-4d9a-8307-7433028a1bd9"
      },
      "source": [
        "sim_dissim([4, 12, 3, 5],[9, 8, 2, 3],'EN')\n",
        "sim_dissim([4, 12, 3, 5],[9, 8, 2, 3],'HSN')\n",
        "print()\n",
        "print(\"Diagonal Testing\")\n",
        "sim_dissim([4, 12, 3, 5],[9, 8, 2, 3],'DN', [7, 1, 10, -1])\n",
        "sim_dissim([1, 2, 4] ,[-6, 0, 9],'DN', [1, 1, 0, 1])\n",
        "sim_dissim([1,-2] ,[-11, 4],'DN', [-11, 4])"
      ],
      "execution_count": 5,
      "outputs": [
        {
          "output_type": "stream",
          "name": "stdout",
          "text": [
            "(6.782329983125268, 0.12849622184722817)\n",
            "(2.0, 0.3333333333333333)\n",
            "\n",
            "Diagonal Testing\n",
            "(14.035668847618199, 0.06650851452866428)\n",
            "The vector dimension isn't compatible\n",
            "Dissimilarity turns out to be the square root of a negative number\n"
          ]
        }
      ]
    },
    {
      "cell_type": "code",
      "metadata": {
        "colab": {
          "base_uri": "https://localhost:8080/"
        },
        "id": "GMR8pRBiuVB2",
        "outputId": "4ba30c2d-c05b-4709-808f-deea7ca492f6"
      },
      "source": [
        "print(\"MN measure\")\n",
        "sim_dissim([4, 12, 3, 5],[9, 8, 2, 3],'MN', [[4,18,21,37],[14,7,2,11],[3,5,2,13],[11,34,47,26],[71, 2, 1, 15]])\n",
        "sim_dissim([61, 53, 8] ,[7, -2, 10],'MN', [[-13,2,1,6],[17,5,-8,2],[44, 23,73,-11]])\n",
        "sim_dissim([15, 41] ,[68, -29],'MN', [[-1,1],[0,0]])"
      ],
      "execution_count": 6,
      "outputs": [
        {
          "output_type": "stream",
          "name": "stdout",
          "text": [
            "MN measure\n",
            "(3.510296756835771, 0.22171490123890578)\n",
            "The shape of distribution does not conform with the data points\n",
            "The distribution results in a non-invertible covariance matrix\n"
          ]
        }
      ]
    },
    {
      "cell_type": "code",
      "metadata": {
        "colab": {
          "base_uri": "https://localhost:8080/"
        },
        "id": "IEaB3VskuVa1",
        "outputId": "03d31b01-c2d7-4e35-b659-7bc717f8bf3a"
      },
      "source": [
        "# LMN Measure\n",
        "sim_dissim([4, 12, 3, 5] ,[9, 8, 2, 3] ,'LMN', 6)\n",
        "sim_dissim([2, 13, 7, 11, 5] ,[-8, 31, 1, 6, 52] ,'LMN', 0)\n",
        "\n",
        "sim_dissim([4, 12, 3, 5] ,[9, 8, 2, 3] ,'CS')\n",
        "sim_dissim([3, -2, 4] ,[4, -2, -4] ,'CS')\n",
        "sim_dissim([4, 12, 3, 5] ,[9, 8, 2, 3] ,'OS')\n",
        "sim_dissim([0, 0, 0] ,[4, -2, -4]  ,'OS')\n",
        "sim_dissim([4, 12, 3, 5] ,[9, 8, 2, 3] ,'DS')\n",
        "sim_dissim([4, 12, 3, 5] ,[9, 8, 2, 3] ,'JS')"
      ],
      "execution_count": 7,
      "outputs": [
        {
          "output_type": "stream",
          "name": "stdout",
          "text": [
            "(5.2006744337772055, 0.16127277938552234)\n",
            "Similarity/ Dissimilarity measures not defined\n",
            "(0.14429494027266954, 0.8739005695172557)\n",
            "(inf, 0.0)\n",
            "(0.03267973856209145, 0.9683544303797469)\n",
            "Measures not defined; similarity has 0/0 form\n",
            "(0.150326797385621, 0.8693181818181818)\n",
            "(0.3006535947712418, 0.7688442211055276)\n"
          ]
        }
      ]
    }
  ]
}