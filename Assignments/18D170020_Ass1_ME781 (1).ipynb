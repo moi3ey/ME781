{
  "nbformat": 4,
  "nbformat_minor": 0,
  "metadata": {
    "colab": {
      "name": "18D170020_Ass1_ME781.ipynb",
      "provenance": [],
      "collapsed_sections": []
    },
    "kernelspec": {
      "name": "python3",
      "display_name": "Python 3"
    }
  },
  "cells": [
    {
      "cell_type": "markdown",
      "metadata": {
        "id": "wsCkPh9zrrwI"
      },
      "source": [
        "# Question 1\n",
        "\n",
        "Create a python code that will take an integer as an input and output all prime numbers less than the\n",
        "input number. The python code should be written from scratch without using any inbuilt libraries.\n",
        "However, you could later use SymPy libraries to compare your results\n",
        "\n",
        "I have implemented Sieve of Eratosthenes algorithm for displaying prime numbers less than n. It does so by iteratively marking as composite the multiples of each prime, starting with the first prime number, 2. The multiples of a given prime are generated as a sequence of numbers starting from that prime, with difference between them equal to that prime. \n",
        "\n",
        "Inputs like \"float in string\" are considered as wrong input and numbers less or equal to 1 are also treated as wrong input"
      ]
    },
    {
      "cell_type": "code",
      "metadata": {
        "id": "0mV5gqPZjNT6"
      },
      "source": [
        "\n",
        "def checkprime(n): \n",
        "\n",
        "  if isinstance(n, float):\n",
        "    n = int(n)\n",
        "  if isinstance(n, str):\n",
        "    if n.isnumeric():\n",
        "      n = int(n)\n",
        "    else:\n",
        "      print(\"You have entered wrong input\")\n",
        "      return\n",
        "  if n<=1:\n",
        "    print(\"You have entered wrong input\")\n",
        "    return\n",
        "\n",
        "  prime_nums = []  \n",
        "  prime = [True for i in range(int(n+1))] \n",
        "  p = 2\n",
        "  while (p * p <= n):  \n",
        "    if (prime[p] == True): \n",
        "      for i in range(p * p, int(n+1), p): \n",
        "        prime[i] = False\n",
        "    p += 1\n",
        "  \n",
        "  for p in range(2, int(n+1)): \n",
        "    if prime[p]: \n",
        "      prime_nums.append(p)\n",
        "  \n",
        "  print(prime_nums)"
      ],
      "execution_count": null,
      "outputs": []
    },
    {
      "cell_type": "markdown",
      "metadata": {
        "id": "FysmcSHbExYE"
      },
      "source": [
        "Following are the Test Cases mentioned:"
      ]
    },
    {
      "cell_type": "code",
      "metadata": {
        "colab": {
          "base_uri": "https://localhost:8080/"
        },
        "id": "-O7sBvHNDn0G",
        "outputId": "18227633-43b0-4aaa-a38e-6fcdf4c329c2"
      },
      "source": [
        "get_primenumbers(9)\n",
        "get_primenumbers(\"9\")\n",
        "get_primenumbers(\"xyz\")\n",
        "get_primenumbers(7.2)\n",
        "get_primenumbers(3)"
      ],
      "execution_count": null,
      "outputs": [
        {
          "output_type": "stream",
          "text": [
            "[2, 3, 5, 7]\n",
            "[2, 3, 5, 7]\n",
            "You have entered wrong input\n",
            "[2, 3, 5, 7]\n",
            "[2, 3]\n"
          ],
          "name": "stdout"
        }
      ]
    },
    {
      "cell_type": "markdown",
      "metadata": {
        "id": "sth6gPslFFJ1"
      },
      "source": [
        "### Question 2:\n",
        "\n",
        "Solve the problem of the Tower of Hanoi using recursion for a variable number of rings which is provided by the user.\n",
        "\n",
        "The famous Towers of Hanoi puzzle consists of 3 pegs (A, B, C) on one of which (A) are stacked `n` rings of different sizes, each ring resting on a larger ring. The objective is to move the `n` rings one by one until they are all stacked on another peg (B) in such a way that no ring is ever placed on a smaller ring; the other peg (C) can be used as a workspace. The minimal number of moves required to solve a Tower of Hanoi puzzle is `2^n − 1`, where `n` is the number of disks."
      ]
    },
    {
      "cell_type": "markdown",
      "metadata": {
        "id": "2N5xVws4r1I_"
      },
      "source": [
        "Two functions implemented:\n",
        "hanoi_tower() is using recursion to solve the puzzle and move() is implementing the move on the poles"
      ]
    },
    {
      "cell_type": "code",
      "metadata": {
        "id": "nvAgKGv0bHWu",
        "colab": {
          "base_uri": "https://localhost:8080/"
        },
        "outputId": "68e9a1d0-1372-40d5-c1ba-66802ff24788"
      },
      "source": [
        "step = 0\n",
        "\n",
        "def hanoi_tower(n, A=\"A\", B=\"B\", C=\"C\"):\n",
        "  global step\n",
        "  if n>0:\n",
        "    hanoi_tower(n-1, A, C, B)\n",
        "    move(A,C)\n",
        "    step+=1\n",
        "    print(\"Step \",step,\" = \",poles)\n",
        "    hanoi_tower(n-1, B, A, C)\n",
        "  else:\n",
        "    return\n",
        "\n",
        "def move(source, destination):\n",
        "  if (source==\"A\"): p1=0 \n",
        "  elif (source==\"B\"): p1 = 1 \n",
        "  else: p1 = 2 \n",
        "      \n",
        "  if (destination==\"A\"): p2 = 0 \n",
        "  elif (destination==\"B\"): p2 = 1 \n",
        "  else: p2 = 2 \n",
        "  \n",
        "  top = poles[p1].pop()\n",
        "  poles[p2].append(top) \n",
        "\n",
        "if __name__ == \"__main__\":\n",
        "  \n",
        "  n = int(input())\n",
        "  poles = [[],[],[]]\n",
        " \n",
        "  poles[0] = [i for i in range(n,0,-1)]\n",
        "  print(\"\\nInitial condition = \", poles)\n",
        "  hanoi_tower(n)"
      ],
      "execution_count": 1,
      "outputs": [
        {
          "output_type": "stream",
          "text": [
            "3\n",
            "\n",
            "Initial condition =  [[3, 2, 1], [], []]\n",
            "Step  1  =  [[3, 2], [], [1]]\n",
            "Step  2  =  [[3], [2], [1]]\n",
            "Step  3  =  [[3], [2, 1], []]\n",
            "Step  4  =  [[], [2, 1], [3]]\n",
            "Step  5  =  [[1], [2], [3]]\n",
            "Step  6  =  [[1], [], [3, 2]]\n",
            "Step  7  =  [[], [], [3, 2, 1]]\n"
          ],
          "name": "stdout"
        }
      ]
    }
  ]
}